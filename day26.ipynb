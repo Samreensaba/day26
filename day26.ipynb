{
 "cells": [
  {
   "cell_type": "code",
   "execution_count": null,
   "id": "ea5d44fc-cfa4-4cf6-b694-77a16b6cc5d2",
   "metadata": {},
   "outputs": [],
   "source": [
    "import os\n",
    "import time\n",
    "\n",
    "import pygame\n",
    "\n",
    "pygame.init()\n",
    "pygame.mixer.init()\n",
    "sound = pygame.mixer.Sound('audio.wav')\n",
    "sound.play()\n",
    "\n",
    "def pause():\n",
    "  pygame.mixer.pause()\n",
    "\n",
    "pause()\n",
    "\n",
    "def play():\n",
    "  # Play the sound\n",
    "  pygame.mixer.unpause()\n",
    "  while True:\n",
    "    # Start taking user input and doing something with it\n",
    "    userresponse = input(\"Press s to stop the music: \")\n",
    "    if userresponse == \"s\":\n",
    "      pause()\n",
    "      exit()\n",
    "    elif userresponse == \"q\":\n",
    "      exit()\n",
    "    else:\n",
    "      continue\n",
    "\n",
    "while True:\n",
    "  # clear the screen \n",
    "  os.system(\"clear\")\n",
    "  print(\"MyPOD Music Player\")\n",
    "  time.sleep(2)\n",
    "  # Show the menu\n",
    "  print()\n",
    "  print(\"Press p to play\")\n",
    "  print(\"Press s to stop\")\n",
    "  print(\"Press q to quit\")\n",
    "\n",
    "  time.sleep(2)\n",
    "  \n",
    "\n",
    "  response = input(\"Enter your response here: \")\n",
    "  \n",
    "\n",
    "\n",
    "  if response == \"p\":\n",
    "    print(\"Playing some proper tunes!\")\n",
    "    play()\n",
    "  elif response == \"q\":\n",
    "    exit()\n",
    "  else:\n",
    "    continue"
   ]
  }
 ],
 "metadata": {
  "kernelspec": {
   "display_name": "Python 3 (ipykernel)",
   "language": "python",
   "name": "python3"
  },
  "language_info": {
   "codemirror_mode": {
    "name": "ipython",
    "version": 3
   },
   "file_extension": ".py",
   "mimetype": "text/x-python",
   "name": "python",
   "nbconvert_exporter": "python",
   "pygments_lexer": "ipython3",
   "version": "3.12.4"
  }
 },
 "nbformat": 4,
 "nbformat_minor": 5
}
